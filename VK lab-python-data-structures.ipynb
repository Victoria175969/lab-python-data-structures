{
 "cells": [
  {
   "cell_type": "markdown",
   "metadata": {
    "tags": []
   },
   "source": [
    "# Lab | Data Structures "
   ]
  },
  {
   "cell_type": "markdown",
   "metadata": {},
   "source": [
    "## Exercise: Managing Customer Orders\n",
    "\n",
    "As part of a business venture, you are starting an online store that sells various products. To ensure smooth operations, you need to develop a program that manages customer orders and inventory.\n",
    "\n",
    "Follow the steps below to complete the exercise:\n",
    "\n",
    "1. Define a list called `products` that contains the following items: \"t-shirt\", \"mug\", \"hat\", \"book\", \"keychain\".\n",
    "\n",
    "2. Create an empty dictionary called `inventory`.\n",
    "\n",
    "3. Ask the user to input the quantity of each product available in the inventory. Use the product names from the `products` list as keys in the `inventory` dictionary and assign the respective quantities as values.\n",
    "\n",
    "4. Create an empty set called `customer_orders`.\n",
    "\n",
    "5. Ask the user to input the name of three products that a customer wants to order (from those in the products list, meaning three products out of \"t-shirt\", \"mug\", \"hat\", \"book\" or \"keychain\". Add each product name to the `customer_orders` set.\n",
    "\n",
    "6. Print the products in the `customer_orders` set.\n",
    "\n",
    "7. Calculate the following order statistics:\n",
    "   - Total Products Ordered: The total number of products in the `customer_orders` set.\n",
    "   - Percentage of Products Ordered: The percentage of products ordered compared to the total available products.\n",
    "   \n",
    "   Store these statistics in a tuple called `order_status`.\n",
    "\n",
    "8. Print the order statistics using the following format:\n",
    "   ```\n",
    "   Order Statistics:\n",
    "   Total Products Ordered: <total_products_ordered>\n",
    "   Percentage of Products Ordered: <percentage_ordered>% \n",
    "   ```\n",
    "\n",
    "9. Update the inventory by subtracting 1 from the quantity of each product. Modify the `inventory` dictionary accordingly.\n",
    "\n",
    "10. Print the updated inventory, displaying the quantity of each product on separate lines.\n",
    "\n",
    "Solve the exercise by implementing the steps using the Python concepts of lists, dictionaries, sets, and basic input/output operations. "
   ]
  },
  {
   "cell_type": "raw",
   "metadata": {},
   "source": []
  },
  {
   "cell_type": "code",
   "execution_count": 23,
   "metadata": {},
   "outputs": [
    {
     "name": "stdin",
     "output_type": "stream",
     "text": [
      "Please input the quantity of t-shirts: 20\n",
      "Please input the quantity of mugs: 30\n",
      "Please input the quantity of hats: 40\n",
      "Please input the quantity of books: 20\n",
      "Please input the quantity of keychains: 10\n"
     ]
    },
    {
     "name": "stdout",
     "output_type": "stream",
     "text": [
      "{'t_shirt': 20, 'mug': 30, 'hat': 40, 'book': 20, 'keychain': 10}\n"
     ]
    },
    {
     "name": "stdin",
     "output_type": "stream",
     "text": [
      "Please enter the first item you would like to purchase: mug\n",
      "Please enter the second item you would like to purchase: book\n",
      "Please enter the third item you would like to purchase: hat\n"
     ]
    },
    {
     "name": "stdout",
     "output_type": "stream",
     "text": [
      "Customer order: {'hat', 'book', 'mug'}\n",
      "120\n"
     ]
    }
   ],
   "source": [
    "products = [\"t-shirt\", \"mug\", \"hat\", \"book\", \"keychain\"]\n",
    "inventory = {}\n",
    "\n",
    "t_shirt = int(input(\"Please input the quantity of t-shirts:\"))\n",
    "mug = int(input(\"Please input the quantity of mugs:\"))\n",
    "hat = int(input(\"Please input the quantity of hats:\"))\n",
    "book = int(input(\"Please input the quantity of books:\"))\n",
    "keychain = int(input(\"Please input the quantity of keychains:\"))\n",
    "\n",
    "inventory [\"t_shirt\"] = t_shirt\n",
    "inventory [\"mug\"] = mug\n",
    "inventory [\"hat\"] = hat\n",
    "inventory [\"book\"] = book\n",
    "inventory [\"keychain\"] = keychain\n",
    "print(inventory)\n",
    "\n",
    "customer_orders = set()\n",
    "\n",
    "first_item = input(\"Please enter the first item you would like to purchase:\")\n",
    "second_item = input(\"Please enter the second item you would like to purchase:\")\n",
    "third_item = input(\"Please enter the third item you would like to purchase:\")\n",
    "\n",
    "customer_orders.add(first_item)\n",
    "customer_orders.add(second_item)\n",
    "customer_orders.add(third_item)\n",
    "\n",
    "print(f\"Customer order: {customer_orders}\")\n",
    "\n",
    "total_t_shirts = int(t_shirt)\n",
    "total_mugs = int(mug)\n",
    "total_hats = int(hat)\n",
    "total_books = int(book)\n",
    "total_keychains = int(keychain)\n",
    "print(sum([total_t_shirts, total_mugs, total_hats, total_books, total_keychains]))\n",
    "\n"
   ]
  },
  {
   "cell_type": "code",
   "execution_count": 25,
   "metadata": {},
   "outputs": [
    {
     "name": "stdout",
     "output_type": "stream",
     "text": [
      "(3, 0.025)\n"
     ]
    }
   ],
   "source": [
    "# Order Statistics:\n",
    "# Total Products Ordered:\n",
    "total_products_ordered = len(customer_orders)\n",
    "percentage_ordered = len(customer_orders)/sum(([total_t_shirts, total_mugs, total_hats, total_books, total_keychains]))\n",
    "order_status = (total_products_ordered, percentage_ordered)\n",
    "print(order_status)"
   ]
  },
  {
   "cell_type": "code",
   "execution_count": 26,
   "metadata": {},
   "outputs": [],
   "source": [
    "inventory [\"t_shirt\"] = t_shirt - 1\n",
    "inventory [\"mug\"] = mug - 1\n",
    "inventory [\"hat\"] = hat - 1\n",
    "inventory [\"book\"] = book - 1\n",
    "inventory [\"keychain\"] = keychain -1"
   ]
  },
  {
   "cell_type": "code",
   "execution_count": 27,
   "metadata": {},
   "outputs": [
    {
     "name": "stdout",
     "output_type": "stream",
     "text": [
      "t_shirt:19\n",
      "mug:29\n",
      "hat:39\n",
      "book:19\n",
      "keychain:9\n"
     ]
    }
   ],
   "source": [
    "for key, value in inventory.items():\n",
    "    print(f\"{key}:{value}\")"
   ]
  }
 ],
 "metadata": {
  "kernelspec": {
   "display_name": "Python 3 (ipykernel)",
   "language": "python",
   "name": "python3"
  },
  "language_info": {
   "codemirror_mode": {
    "name": "ipython",
    "version": 3
   },
   "file_extension": ".py",
   "mimetype": "text/x-python",
   "name": "python",
   "nbconvert_exporter": "python",
   "pygments_lexer": "ipython3",
   "version": "3.12.3"
  }
 },
 "nbformat": 4,
 "nbformat_minor": 4
}
